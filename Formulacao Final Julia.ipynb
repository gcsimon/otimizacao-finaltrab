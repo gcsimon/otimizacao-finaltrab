{
 "cells": [
  {
   "cell_type": "code",
   "execution_count": 1,
   "id": "826b787d",
   "metadata": {},
   "outputs": [],
   "source": [
    "using GLPK\n",
    "using JuMP"
   ]
  },
  {
   "cell_type": "code",
   "execution_count": 2,
   "id": "b7da6bef",
   "metadata": {},
   "outputs": [],
   "source": [
    "m = Model();"
   ]
  },
  {
   "cell_type": "code",
   "execution_count": 3,
   "id": "9b34b67f",
   "metadata": {},
   "outputs": [],
   "source": [
    "set_optimizer(m, GLPK.Optimizer)"
   ]
  },
  {
   "cell_type": "code",
   "execution_count": 4,
   "id": "dba02595",
   "metadata": {},
   "outputs": [],
   "source": [
    "f = open(\"C:/Users/gabri/OneDrive/Documents/2021-1/Otimização/Trabalho Final/Problema1-instancias/Problema1/induced_50_122.dat\", \"r\");"
   ]
  },
  {
   "cell_type": "code",
   "execution_count": 5,
   "id": "66d07821",
   "metadata": {},
   "outputs": [],
   "source": [
    "file = read(f, String); "
   ]
  },
  {
   "cell_type": "code",
   "execution_count": 6,
   "id": "934f8ed9",
   "metadata": {},
   "outputs": [],
   "source": [
    "rawList = split(file, \"\\n\")\n",
    "rawList = convert(Vector{String}, rawList)\n",
    "inputFile = []\n",
    "for (index, value) in enumerate(rawList)\n",
    "           append!(inputFile,  [convert(Vector{String},split(value, \" \"))])\n",
    "       end\n",
    "pop!(inputFile);\n"
   ]
  },
  {
   "cell_type": "code",
   "execution_count": 7,
   "id": "f8c244ac",
   "metadata": {},
   "outputs": [],
   "source": [
    "@variable(m, NV >=0)\n",
    "NumberVertices=parse(Int64,inputFile[1][1])\n",
    "popfirst!(inputFile)\n",
    "NV = collect(1:NumberVertices);"
   ]
  },
  {
   "cell_type": "code",
   "execution_count": 8,
   "id": "aad1d070",
   "metadata": {},
   "outputs": [],
   "source": [
    "@variable(m, G[x in NV, y in NV])\n",
    "@variable(m, M[x in NV, y in NV], Bin)\n",
    "@variable(m, X[x in NV] >=0, Int)\n",
    "@variable(m, Vec[x in NV], Bin);\n"
   ]
  },
  {
   "cell_type": "code",
   "execution_count": 9,
   "id": "66f2556c",
   "metadata": {},
   "outputs": [],
   "source": [
    "G = zeros(Int64, NumberVertices, NumberVertices)\n",
    "for (index, value) in enumerate(inputFile)\n",
    "    x = parse(Int64, value[1])\n",
    "    y = parse(Int64, value[2])\n",
    "    G[x,y] = 1\n",
    "    G[y,x] = 1\n",
    "       end\n",
    ";"
   ]
  },
  {
   "cell_type": "code",
   "execution_count": 10,
   "id": "7c201e4a",
   "metadata": {},
   "outputs": [],
   "source": [
    "@objective(m, Max, sum(Vec[i] for i in NV));"
   ]
  },
  {
   "cell_type": "code",
   "execution_count": 11,
   "id": "1f5a51f0",
   "metadata": {},
   "outputs": [],
   "source": [
    "@constraint(m, [i in NV, j in NV], M[i,j] >= (Vec[i] + Vec[j]) * G[i,j] - 1) # Isso é equivalente à \n",
    "@constraint(m, [i in NV, j in NV], M[i,j] <= (Vec[i] + Vec[j]) * G[i,j] / 2) # Vec[i] and Vec[j] * G[i,j]\n",
    "@constraint(m, [i in NV], sum(M[i,j] for j in NV) == 2*X[i]);"
   ]
  },
  {
   "cell_type": "code",
   "execution_count": null,
   "id": "de5811b0",
   "metadata": {},
   "outputs": [],
   "source": [
    "optimize!(m)"
   ]
  },
  {
   "cell_type": "code",
   "execution_count": null,
   "id": "e38ae81a",
   "metadata": {},
   "outputs": [],
   "source": [
    "objective_value(m)"
   ]
  }
 ],
 "metadata": {
  "kernelspec": {
   "display_name": "Julia 1.6.3",
   "language": "julia",
   "name": "julia-1.6"
  },
  "language_info": {
   "file_extension": ".jl",
   "mimetype": "application/julia",
   "name": "julia",
   "version": "1.6.3"
  }
 },
 "nbformat": 4,
 "nbformat_minor": 5
}
