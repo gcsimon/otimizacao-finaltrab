{
 "cells": [
  {
   "cell_type": "code",
   "execution_count": 489,
   "id": "826b787d",
   "metadata": {},
   "outputs": [],
   "source": [
    "using GLPK\n",
    "using JuMP\n",
    "using Printf"
   ]
  },
  {
   "cell_type": "code",
   "execution_count": 490,
   "id": "b7da6bef",
   "metadata": {},
   "outputs": [],
   "source": [
    "m = Model();"
   ]
  },
  {
   "cell_type": "code",
   "execution_count": 491,
   "id": "9b34b67f",
   "metadata": {},
   "outputs": [],
   "source": [
    "set_optimizer(m, GLPK.Optimizer)"
   ]
  },
  {
   "cell_type": "code",
   "execution_count": 492,
   "id": "dba02595",
   "metadata": {},
   "outputs": [],
   "source": [
    "# TROCAR CAMINHO\n",
    "f = open(\"G:/My Drive/UFRGS/Otimização/Trabalho/Problema1/induced_50_122.dat\", \"r\");"
   ]
  },
  {
   "cell_type": "code",
   "execution_count": 493,
   "id": "66d07821",
   "metadata": {},
   "outputs": [],
   "source": [
    "file = read(f, String); "
   ]
  },
  {
   "cell_type": "code",
   "execution_count": 494,
   "id": "934f8ed9",
   "metadata": {},
   "outputs": [],
   "source": [
    "rawList = split(file, \"\\n\")\n",
    "rawList = convert(Vector{String}, rawList)\n",
    "inputFile = []\n",
    "for (index, value) in enumerate(rawList)\n",
    "           append!(inputFile,  [convert(Vector{String},split(value, \" \"))])\n",
    "       end\n",
    "pop!(inputFile);\n"
   ]
  },
  {
   "cell_type": "code",
   "execution_count": 495,
   "id": "f8c244ac",
   "metadata": {},
   "outputs": [],
   "source": [
    "NV=parse(Int64,inputFile[1][1])\n",
    "popfirst!(inputFile);"
   ]
  },
  {
   "cell_type": "code",
   "execution_count": 496,
   "id": "aad1d070",
   "metadata": {},
   "outputs": [],
   "source": [
    "@variable(m, G[x in 1:NV, y in 1:NV])\n",
    "@variable(m, M[x in 1:NV, y in 1:NV], Bin)\n",
    "@variable(m, 0 <= X[x in 1:NV], Int)\n",
    "@variable(m, Vec[x in 1:NV], Bin)\n",
    ";\n"
   ]
  },
  {
   "cell_type": "code",
   "execution_count": 497,
   "id": "66f2556c",
   "metadata": {},
   "outputs": [],
   "source": [
    "G = zeros(Int64, NV, NV)\n",
    "for (index, value) in enumerate(inputFile)\n",
    "    x = parse(Int64, value[1])\n",
    "    y = parse(Int64, value[2])\n",
    "    G[x,y] = 1\n",
    "    G[y,x] = 1\n",
    "       end\n",
    ";"
   ]
  },
  {
   "cell_type": "code",
   "execution_count": 498,
   "id": "7c201e4a",
   "metadata": {},
   "outputs": [],
   "source": [
    "@objective(m, Max, sum(Vec[i] for i in 1:NV));"
   ]
  },
  {
   "cell_type": "code",
   "execution_count": 499,
   "id": "1f5a51f0",
   "metadata": {},
   "outputs": [],
   "source": [
    "@constraint(m, [i in 1:NV, j in 1:NV], M[i,j] >= (Vec[i] + Vec[j]) * G[i,j] - 1) # Isso é equivalente à \n",
    "@constraint(m, [i in 1:NV, j in 1:NV], M[i,j] <= (Vec[i] + Vec[j]) * G[i,j] / 2) # Vec[i] and Vec[j]\n",
    "\n",
    "@constraint(m, [i in 1:NV], sum(M[i,j] for j in 1:NV) == 2*X[i])\n",
    ";"
   ]
  },
  {
   "cell_type": "code",
   "execution_count": null,
   "id": "de5811b0",
   "metadata": {},
   "outputs": [],
   "source": [
    "optimize!(m)"
   ]
  },
  {
   "cell_type": "code",
   "execution_count": null,
   "id": "02f6d245",
   "metadata": {},
   "outputs": [],
   "source": [
    "objective_value(m)"
   ]
  },
  {
   "cell_type": "code",
   "execution_count": null,
   "id": "f2556a76",
   "metadata": {},
   "outputs": [],
   "source": [
    "for i in 1:NV\n",
    "    print(\"\\n\")\n",
    "    print(value(X[i]))\n",
    "end"
   ]
  },
  {
   "cell_type": "code",
   "execution_count": null,
   "id": "4eaa63a2",
   "metadata": {},
   "outputs": [],
   "source": [
    "for i in 1:NV\n",
    "    print(\"\\n\")\n",
    "    print(value(Vec[i]))\n",
    "end"
   ]
  },
  {
   "cell_type": "code",
   "execution_count": null,
   "id": "461947f2",
   "metadata": {},
   "outputs": [],
   "source": [
    "for i in 1:NV\n",
    "    print(\"\\n\")\n",
    "    for j in 1:NV\n",
    "        print(\" \")\n",
    "        @printf \"%i\" value(G[i,j])\n",
    "    end\n",
    "end"
   ]
  },
  {
   "cell_type": "code",
   "execution_count": null,
   "id": "4b794911",
   "metadata": {},
   "outputs": [],
   "source": [
    "for i in 1:NV\n",
    "    print(\"\\n\")\n",
    "    for j in 1:NV\n",
    "        print(\" \")\n",
    "        @printf \"%i\" value(M[i,j])\n",
    "    end\n",
    "end"
   ]
  },
  {
   "cell_type": "code",
   "execution_count": null,
   "id": "1b9aab97",
   "metadata": {},
   "outputs": [],
   "source": []
  }
 ],
 "metadata": {
  "kernelspec": {
   "display_name": "Julia 1.6.3",
   "language": "julia",
   "name": "julia-1.6"
  },
  "language_info": {
   "file_extension": ".jl",
   "mimetype": "application/julia",
   "name": "julia",
   "version": "1.6.3"
  }
 },
 "nbformat": 4,
 "nbformat_minor": 5
}
